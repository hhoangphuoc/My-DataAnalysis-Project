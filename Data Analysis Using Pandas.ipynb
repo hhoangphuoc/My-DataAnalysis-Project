{
 "cells": [
  {
   "cell_type": "markdown",
   "id": "c0b2f537",
   "metadata": {},
   "source": [
    "### CRISP - DM METHOD:\n",
    "\n",
    " - Barry: Business Understanding\n",
    " - Drove: Data Understanding\n",
    " - Directly to the : Data Prep\n",
    " - Medical : Modelling\n",
    " - Emergency: Evaluation\n",
    " - Department: Deployment\n",
    " "
   ]
  },
  {
   "cell_type": "markdown",
   "id": "59a12b98",
   "metadata": {},
   "source": [
    "## 1. Business Understanding\n",
    "\n",
    "- Forcasting Transaction\n",
    "- Likely regression\n",
    "- Advised data quality is okay\n"
   ]
  },
  {
   "cell_type": "markdown",
   "id": "f29804ce",
   "metadata": {},
   "source": [
    "## 2. Data Understanding"
   ]
  },
  {
   "cell_type": "code",
   "execution_count": null,
   "id": "953aed93",
   "metadata": {},
   "outputs": [],
   "source": []
  },
  {
   "cell_type": "code",
   "execution_count": null,
   "id": "a4e25f9f",
   "metadata": {},
   "outputs": [],
   "source": []
  },
  {
   "cell_type": "code",
   "execution_count": null,
   "id": "12b5e1a7",
   "metadata": {},
   "outputs": [],
   "source": []
  }
 ],
 "metadata": {
  "kernelspec": {
   "display_name": "Python 3",
   "language": "python",
   "name": "python3"
  },
  "language_info": {
   "codemirror_mode": {
    "name": "ipython",
    "version": 3
   },
   "file_extension": ".py",
   "mimetype": "text/x-python",
   "name": "python",
   "nbconvert_exporter": "python",
   "pygments_lexer": "ipython3",
   "version": "3.8.8"
  }
 },
 "nbformat": 4,
 "nbformat_minor": 5
}
