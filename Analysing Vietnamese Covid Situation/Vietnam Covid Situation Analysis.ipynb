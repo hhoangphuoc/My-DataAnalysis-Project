{
 "cells": [
  {
   "cell_type": "markdown",
   "id": "b60b71af",
   "metadata": {},
   "source": [
    "# 1.Import Dependencies/Libs"
   ]
  },
  {
   "cell_type": "code",
   "execution_count": 5,
   "id": "d0f84e44",
   "metadata": {},
   "outputs": [],
   "source": [
    "import pandas as pd\n",
    "import numpy as np\n",
    "import matplotlib as plt\n",
    "import seaborn as sns\n",
    "\n",
    "import math\n",
    "import datetime\n",
    "import subprocess"
   ]
  },
  {
   "cell_type": "markdown",
   "id": "cdd54ff3",
   "metadata": {},
   "source": [
    "# 2. Data Collection"
   ]
  },
  {
   "cell_type": "markdown",
   "id": "0fa91e42",
   "metadata": {},
   "source": [
    "## 2.1 Collecting Data"
   ]
  },
  {
   "cell_type": "code",
   "execution_count": 6,
   "id": "54865baa",
   "metadata": {},
   "outputs": [
    {
     "output_type": "execute_result",
     "data": {
      "text/plain": [
       "      iso_code continent     location       date  total_cases  new_cases  \\\n",
       "0          AFG      Asia  Afghanistan  2/24/2020          1.0        1.0   \n",
       "1          AFG      Asia  Afghanistan  2/25/2020          1.0        0.0   \n",
       "2          AFG      Asia  Afghanistan  2/26/2020          1.0        0.0   \n",
       "3          AFG      Asia  Afghanistan  2/27/2020          1.0        0.0   \n",
       "4          AFG      Asia  Afghanistan  2/28/2020          1.0        0.0   \n",
       "...        ...       ...          ...        ...          ...        ...   \n",
       "92126      ZWE    Africa     Zimbabwe  5/25/2021      38706.0       10.0   \n",
       "92127      ZWE    Africa     Zimbabwe  5/26/2021      38819.0      113.0   \n",
       "92128      ZWE    Africa     Zimbabwe  5/27/2021      38854.0       35.0   \n",
       "92129      ZWE    Africa     Zimbabwe  5/28/2021      38918.0       64.0   \n",
       "92130      ZWE    Africa     Zimbabwe  5/29/2021      38933.0       15.0   \n",
       "\n",
       "       new_cases_smoothed  total_deaths  new_deaths  new_deaths_smoothed  ...  \\\n",
       "0                     NaN           NaN         NaN                  NaN  ...   \n",
       "1                     NaN           NaN         NaN                  NaN  ...   \n",
       "2                     NaN           NaN         NaN                  NaN  ...   \n",
       "3                     NaN           NaN         NaN                  NaN  ...   \n",
       "4                     NaN           NaN         NaN                  NaN  ...   \n",
       "...                   ...           ...         ...                  ...  ...   \n",
       "92126              15.857        1587.0         1.0                0.571  ...   \n",
       "92127              29.571        1589.0         2.0                0.857  ...   \n",
       "92128              31.286        1592.0         3.0                1.000  ...   \n",
       "92129              36.286        1592.0         0.0                0.857  ...   \n",
       "92130              36.286        1594.0         2.0                1.143  ...   \n",
       "\n",
       "       gdp_per_capita  extreme_poverty  cardiovasc_death_rate  \\\n",
       "0            1803.987              NaN                597.029   \n",
       "1            1803.987              NaN                597.029   \n",
       "2            1803.987              NaN                597.029   \n",
       "3            1803.987              NaN                597.029   \n",
       "4            1803.987              NaN                597.029   \n",
       "...               ...              ...                    ...   \n",
       "92126        1899.775             21.4                307.846   \n",
       "92127        1899.775             21.4                307.846   \n",
       "92128        1899.775             21.4                307.846   \n",
       "92129        1899.775             21.4                307.846   \n",
       "92130        1899.775             21.4                307.846   \n",
       "\n",
       "       diabetes_prevalence  female_smokers  male_smokers  \\\n",
       "0                     9.59             NaN           NaN   \n",
       "1                     9.59             NaN           NaN   \n",
       "2                     9.59             NaN           NaN   \n",
       "3                     9.59             NaN           NaN   \n",
       "4                     9.59             NaN           NaN   \n",
       "...                    ...             ...           ...   \n",
       "92126                 1.82             1.6          30.7   \n",
       "92127                 1.82             1.6          30.7   \n",
       "92128                 1.82             1.6          30.7   \n",
       "92129                 1.82             1.6          30.7   \n",
       "92130                 1.82             1.6          30.7   \n",
       "\n",
       "       handwashing_facilities  hospital_beds_per_thousand  life_expectancy  \\\n",
       "0                      37.746                         0.5            64.83   \n",
       "1                      37.746                         0.5            64.83   \n",
       "2                      37.746                         0.5            64.83   \n",
       "3                      37.746                         0.5            64.83   \n",
       "4                      37.746                         0.5            64.83   \n",
       "...                       ...                         ...              ...   \n",
       "92126                  36.791                         1.7            61.49   \n",
       "92127                  36.791                         1.7            61.49   \n",
       "92128                  36.791                         1.7            61.49   \n",
       "92129                  36.791                         1.7            61.49   \n",
       "92130                  36.791                         1.7            61.49   \n",
       "\n",
       "       human_development_index  \n",
       "0                        0.511  \n",
       "1                        0.511  \n",
       "2                        0.511  \n",
       "3                        0.511  \n",
       "4                        0.511  \n",
       "...                        ...  \n",
       "92126                    0.571  \n",
       "92127                    0.571  \n",
       "92128                    0.571  \n",
       "92129                    0.571  \n",
       "92130                    0.571  \n",
       "\n",
       "[92131 rows x 59 columns]"
      ],
      "text/html": "<div>\n<style scoped>\n    .dataframe tbody tr th:only-of-type {\n        vertical-align: middle;\n    }\n\n    .dataframe tbody tr th {\n        vertical-align: top;\n    }\n\n    .dataframe thead th {\n        text-align: right;\n    }\n</style>\n<table border=\"1\" class=\"dataframe\">\n  <thead>\n    <tr style=\"text-align: right;\">\n      <th></th>\n      <th>iso_code</th>\n      <th>continent</th>\n      <th>location</th>\n      <th>date</th>\n      <th>total_cases</th>\n      <th>new_cases</th>\n      <th>new_cases_smoothed</th>\n      <th>total_deaths</th>\n      <th>new_deaths</th>\n      <th>new_deaths_smoothed</th>\n      <th>...</th>\n      <th>gdp_per_capita</th>\n      <th>extreme_poverty</th>\n      <th>cardiovasc_death_rate</th>\n      <th>diabetes_prevalence</th>\n      <th>female_smokers</th>\n      <th>male_smokers</th>\n      <th>handwashing_facilities</th>\n      <th>hospital_beds_per_thousand</th>\n      <th>life_expectancy</th>\n      <th>human_development_index</th>\n    </tr>\n  </thead>\n  <tbody>\n    <tr>\n      <th>0</th>\n      <td>AFG</td>\n      <td>Asia</td>\n      <td>Afghanistan</td>\n      <td>2/24/2020</td>\n      <td>1.0</td>\n      <td>1.0</td>\n      <td>NaN</td>\n      <td>NaN</td>\n      <td>NaN</td>\n      <td>NaN</td>\n      <td>...</td>\n      <td>1803.987</td>\n      <td>NaN</td>\n      <td>597.029</td>\n      <td>9.59</td>\n      <td>NaN</td>\n      <td>NaN</td>\n      <td>37.746</td>\n      <td>0.5</td>\n      <td>64.83</td>\n      <td>0.511</td>\n    </tr>\n    <tr>\n      <th>1</th>\n      <td>AFG</td>\n      <td>Asia</td>\n      <td>Afghanistan</td>\n      <td>2/25/2020</td>\n      <td>1.0</td>\n      <td>0.0</td>\n      <td>NaN</td>\n      <td>NaN</td>\n      <td>NaN</td>\n      <td>NaN</td>\n      <td>...</td>\n      <td>1803.987</td>\n      <td>NaN</td>\n      <td>597.029</td>\n      <td>9.59</td>\n      <td>NaN</td>\n      <td>NaN</td>\n      <td>37.746</td>\n      <td>0.5</td>\n      <td>64.83</td>\n      <td>0.511</td>\n    </tr>\n    <tr>\n      <th>2</th>\n      <td>AFG</td>\n      <td>Asia</td>\n      <td>Afghanistan</td>\n      <td>2/26/2020</td>\n      <td>1.0</td>\n      <td>0.0</td>\n      <td>NaN</td>\n      <td>NaN</td>\n      <td>NaN</td>\n      <td>NaN</td>\n      <td>...</td>\n      <td>1803.987</td>\n      <td>NaN</td>\n      <td>597.029</td>\n      <td>9.59</td>\n      <td>NaN</td>\n      <td>NaN</td>\n      <td>37.746</td>\n      <td>0.5</td>\n      <td>64.83</td>\n      <td>0.511</td>\n    </tr>\n    <tr>\n      <th>3</th>\n      <td>AFG</td>\n      <td>Asia</td>\n      <td>Afghanistan</td>\n      <td>2/27/2020</td>\n      <td>1.0</td>\n      <td>0.0</td>\n      <td>NaN</td>\n      <td>NaN</td>\n      <td>NaN</td>\n      <td>NaN</td>\n      <td>...</td>\n      <td>1803.987</td>\n      <td>NaN</td>\n      <td>597.029</td>\n      <td>9.59</td>\n      <td>NaN</td>\n      <td>NaN</td>\n      <td>37.746</td>\n      <td>0.5</td>\n      <td>64.83</td>\n      <td>0.511</td>\n    </tr>\n    <tr>\n      <th>4</th>\n      <td>AFG</td>\n      <td>Asia</td>\n      <td>Afghanistan</td>\n      <td>2/28/2020</td>\n      <td>1.0</td>\n      <td>0.0</td>\n      <td>NaN</td>\n      <td>NaN</td>\n      <td>NaN</td>\n      <td>NaN</td>\n      <td>...</td>\n      <td>1803.987</td>\n      <td>NaN</td>\n      <td>597.029</td>\n      <td>9.59</td>\n      <td>NaN</td>\n      <td>NaN</td>\n      <td>37.746</td>\n      <td>0.5</td>\n      <td>64.83</td>\n      <td>0.511</td>\n    </tr>\n    <tr>\n      <th>...</th>\n      <td>...</td>\n      <td>...</td>\n      <td>...</td>\n      <td>...</td>\n      <td>...</td>\n      <td>...</td>\n      <td>...</td>\n      <td>...</td>\n      <td>...</td>\n      <td>...</td>\n      <td>...</td>\n      <td>...</td>\n      <td>...</td>\n      <td>...</td>\n      <td>...</td>\n      <td>...</td>\n      <td>...</td>\n      <td>...</td>\n      <td>...</td>\n      <td>...</td>\n      <td>...</td>\n    </tr>\n    <tr>\n      <th>92126</th>\n      <td>ZWE</td>\n      <td>Africa</td>\n      <td>Zimbabwe</td>\n      <td>5/25/2021</td>\n      <td>38706.0</td>\n      <td>10.0</td>\n      <td>15.857</td>\n      <td>1587.0</td>\n      <td>1.0</td>\n      <td>0.571</td>\n      <td>...</td>\n      <td>1899.775</td>\n      <td>21.4</td>\n      <td>307.846</td>\n      <td>1.82</td>\n      <td>1.6</td>\n      <td>30.7</td>\n      <td>36.791</td>\n      <td>1.7</td>\n      <td>61.49</td>\n      <td>0.571</td>\n    </tr>\n    <tr>\n      <th>92127</th>\n      <td>ZWE</td>\n      <td>Africa</td>\n      <td>Zimbabwe</td>\n      <td>5/26/2021</td>\n      <td>38819.0</td>\n      <td>113.0</td>\n      <td>29.571</td>\n      <td>1589.0</td>\n      <td>2.0</td>\n      <td>0.857</td>\n      <td>...</td>\n      <td>1899.775</td>\n      <td>21.4</td>\n      <td>307.846</td>\n      <td>1.82</td>\n      <td>1.6</td>\n      <td>30.7</td>\n      <td>36.791</td>\n      <td>1.7</td>\n      <td>61.49</td>\n      <td>0.571</td>\n    </tr>\n    <tr>\n      <th>92128</th>\n      <td>ZWE</td>\n      <td>Africa</td>\n      <td>Zimbabwe</td>\n      <td>5/27/2021</td>\n      <td>38854.0</td>\n      <td>35.0</td>\n      <td>31.286</td>\n      <td>1592.0</td>\n      <td>3.0</td>\n      <td>1.000</td>\n      <td>...</td>\n      <td>1899.775</td>\n      <td>21.4</td>\n      <td>307.846</td>\n      <td>1.82</td>\n      <td>1.6</td>\n      <td>30.7</td>\n      <td>36.791</td>\n      <td>1.7</td>\n      <td>61.49</td>\n      <td>0.571</td>\n    </tr>\n    <tr>\n      <th>92129</th>\n      <td>ZWE</td>\n      <td>Africa</td>\n      <td>Zimbabwe</td>\n      <td>5/28/2021</td>\n      <td>38918.0</td>\n      <td>64.0</td>\n      <td>36.286</td>\n      <td>1592.0</td>\n      <td>0.0</td>\n      <td>0.857</td>\n      <td>...</td>\n      <td>1899.775</td>\n      <td>21.4</td>\n      <td>307.846</td>\n      <td>1.82</td>\n      <td>1.6</td>\n      <td>30.7</td>\n      <td>36.791</td>\n      <td>1.7</td>\n      <td>61.49</td>\n      <td>0.571</td>\n    </tr>\n    <tr>\n      <th>92130</th>\n      <td>ZWE</td>\n      <td>Africa</td>\n      <td>Zimbabwe</td>\n      <td>5/29/2021</td>\n      <td>38933.0</td>\n      <td>15.0</td>\n      <td>36.286</td>\n      <td>1594.0</td>\n      <td>2.0</td>\n      <td>1.143</td>\n      <td>...</td>\n      <td>1899.775</td>\n      <td>21.4</td>\n      <td>307.846</td>\n      <td>1.82</td>\n      <td>1.6</td>\n      <td>30.7</td>\n      <td>36.791</td>\n      <td>1.7</td>\n      <td>61.49</td>\n      <td>0.571</td>\n    </tr>\n  </tbody>\n</table>\n<p>92131 rows × 59 columns</p>\n</div>"
     },
     "metadata": {},
     "execution_count": 6
    }
   ],
   "source": [
    "#who_covid_data:\n",
    "\n",
    "who_covid_data = pd.read_csv('data\\owid-covid-data.csv')\n",
    "\n",
    "who_covid_data"
   ]
  },
  {
   "cell_type": "markdown",
   "id": "2efd8408",
   "metadata": {},
   "source": [
    "## 2.2 Data Cleaning"
   ]
  },
  {
   "cell_type": "markdown",
   "id": "387732a8",
   "metadata": {},
   "source": [
    "### TODO: \n",
    "- Filter to Vietnam COVID data\n",
    "- Change all NULL DATA ( NaN) to -1\n",
    "- Change date data to string\n",
    "- Calculate some percentages\n",
    " "
   ]
  },
  {
   "cell_type": "markdown",
   "id": "f5339b62",
   "metadata": {},
   "source": [
    "### 2.2.1. Filtering to Vietnamese Covid Data"
   ]
  },
  {
   "cell_type": "code",
   "execution_count": 7,
   "id": "2e1930b2",
   "metadata": {},
   "outputs": [
    {
     "output_type": "execute_result",
     "data": {
      "text/plain": [
       "            date  total_cases  new_cases  total_deaths  new_deaths  \\\n",
       "89791  5/29/2021       6908.0      512.0          47.0         0.0   \n",
       "89792  5/28/2021       6396.0       40.0          47.0         1.0   \n",
       "89793  5/27/2021       6356.0      270.0          46.0         1.0   \n",
       "89794  5/26/2021       6086.0      155.0          45.0         1.0   \n",
       "89795  5/25/2021       5931.0      527.0          44.0         0.0   \n",
       "...          ...          ...        ...           ...         ...   \n",
       "90279  1/27/2020          2.0        0.0           NaN         NaN   \n",
       "90280  1/26/2020          2.0        0.0           NaN         NaN   \n",
       "90281  1/25/2020          2.0        0.0           NaN         NaN   \n",
       "90282  1/24/2020          2.0        0.0           NaN         NaN   \n",
       "90283  1/23/2020          2.0        2.0           NaN         NaN   \n",
       "\n",
       "       positive_rate  \n",
       "89791            NaN  \n",
       "89792            NaN  \n",
       "89793            NaN  \n",
       "89794            NaN  \n",
       "89795            NaN  \n",
       "...              ...  \n",
       "90279            NaN  \n",
       "90280            NaN  \n",
       "90281            NaN  \n",
       "90282            NaN  \n",
       "90283            NaN  \n",
       "\n",
       "[493 rows x 6 columns]"
      ],
      "text/html": "<div>\n<style scoped>\n    .dataframe tbody tr th:only-of-type {\n        vertical-align: middle;\n    }\n\n    .dataframe tbody tr th {\n        vertical-align: top;\n    }\n\n    .dataframe thead th {\n        text-align: right;\n    }\n</style>\n<table border=\"1\" class=\"dataframe\">\n  <thead>\n    <tr style=\"text-align: right;\">\n      <th></th>\n      <th>date</th>\n      <th>total_cases</th>\n      <th>new_cases</th>\n      <th>total_deaths</th>\n      <th>new_deaths</th>\n      <th>positive_rate</th>\n    </tr>\n  </thead>\n  <tbody>\n    <tr>\n      <th>89791</th>\n      <td>5/29/2021</td>\n      <td>6908.0</td>\n      <td>512.0</td>\n      <td>47.0</td>\n      <td>0.0</td>\n      <td>NaN</td>\n    </tr>\n    <tr>\n      <th>89792</th>\n      <td>5/28/2021</td>\n      <td>6396.0</td>\n      <td>40.0</td>\n      <td>47.0</td>\n      <td>1.0</td>\n      <td>NaN</td>\n    </tr>\n    <tr>\n      <th>89793</th>\n      <td>5/27/2021</td>\n      <td>6356.0</td>\n      <td>270.0</td>\n      <td>46.0</td>\n      <td>1.0</td>\n      <td>NaN</td>\n    </tr>\n    <tr>\n      <th>89794</th>\n      <td>5/26/2021</td>\n      <td>6086.0</td>\n      <td>155.0</td>\n      <td>45.0</td>\n      <td>1.0</td>\n      <td>NaN</td>\n    </tr>\n    <tr>\n      <th>89795</th>\n      <td>5/25/2021</td>\n      <td>5931.0</td>\n      <td>527.0</td>\n      <td>44.0</td>\n      <td>0.0</td>\n      <td>NaN</td>\n    </tr>\n    <tr>\n      <th>...</th>\n      <td>...</td>\n      <td>...</td>\n      <td>...</td>\n      <td>...</td>\n      <td>...</td>\n      <td>...</td>\n    </tr>\n    <tr>\n      <th>90279</th>\n      <td>1/27/2020</td>\n      <td>2.0</td>\n      <td>0.0</td>\n      <td>NaN</td>\n      <td>NaN</td>\n      <td>NaN</td>\n    </tr>\n    <tr>\n      <th>90280</th>\n      <td>1/26/2020</td>\n      <td>2.0</td>\n      <td>0.0</td>\n      <td>NaN</td>\n      <td>NaN</td>\n      <td>NaN</td>\n    </tr>\n    <tr>\n      <th>90281</th>\n      <td>1/25/2020</td>\n      <td>2.0</td>\n      <td>0.0</td>\n      <td>NaN</td>\n      <td>NaN</td>\n      <td>NaN</td>\n    </tr>\n    <tr>\n      <th>90282</th>\n      <td>1/24/2020</td>\n      <td>2.0</td>\n      <td>0.0</td>\n      <td>NaN</td>\n      <td>NaN</td>\n      <td>NaN</td>\n    </tr>\n    <tr>\n      <th>90283</th>\n      <td>1/23/2020</td>\n      <td>2.0</td>\n      <td>2.0</td>\n      <td>NaN</td>\n      <td>NaN</td>\n      <td>NaN</td>\n    </tr>\n  </tbody>\n</table>\n<p>493 rows × 6 columns</p>\n</div>"
     },
     "metadata": {},
     "execution_count": 7
    }
   ],
   "source": [
    "#filter to vietnam covid data:\n",
    "\n",
    "vnm_who = who_covid_data.loc[(who_covid_data['location'] == 'Vietnam') & (who_covid_data['iso_code'] =='VNM')]\n",
    "\n",
    "vietnam_covid_data = vnm_who.loc[:,['date','total_cases','new_cases','total_deaths','new_deaths','positive_rate'] ]\n",
    "\n",
    "\n",
    "#display vietnam_covid_situation:\n",
    "vietnam_covid_data"
   ]
  },
  {
   "cell_type": "markdown",
   "id": "5501d0da",
   "metadata": {},
   "source": [
    "### 2.2.2 Change Null Data to -1"
   ]
  },
  {
   "cell_type": "code",
   "execution_count": 8,
   "id": "c8502843",
   "metadata": {},
   "outputs": [
    {
     "output_type": "execute_result",
     "data": {
      "text/plain": [
       "            date  total_cases  new_cases  total_deaths  new_deaths  \\\n",
       "89791  5/29/2021       6908.0      512.0          47.0         0.0   \n",
       "89792  5/28/2021       6396.0       40.0          47.0         1.0   \n",
       "89793  5/27/2021       6356.0      270.0          46.0         1.0   \n",
       "89794  5/26/2021       6086.0      155.0          45.0         1.0   \n",
       "89795  5/25/2021       5931.0      527.0          44.0         0.0   \n",
       "...          ...          ...        ...           ...         ...   \n",
       "90279  1/27/2020          2.0        0.0          -1.0        -1.0   \n",
       "90280  1/26/2020          2.0        0.0          -1.0        -1.0   \n",
       "90281  1/25/2020          2.0        0.0          -1.0        -1.0   \n",
       "90282  1/24/2020          2.0        0.0          -1.0        -1.0   \n",
       "90283  1/23/2020          2.0        2.0          -1.0        -1.0   \n",
       "\n",
       "       positive_rate  \n",
       "89791           -1.0  \n",
       "89792           -1.0  \n",
       "89793           -1.0  \n",
       "89794           -1.0  \n",
       "89795           -1.0  \n",
       "...              ...  \n",
       "90279           -1.0  \n",
       "90280           -1.0  \n",
       "90281           -1.0  \n",
       "90282           -1.0  \n",
       "90283           -1.0  \n",
       "\n",
       "[493 rows x 6 columns]"
      ],
      "text/html": "<div>\n<style scoped>\n    .dataframe tbody tr th:only-of-type {\n        vertical-align: middle;\n    }\n\n    .dataframe tbody tr th {\n        vertical-align: top;\n    }\n\n    .dataframe thead th {\n        text-align: right;\n    }\n</style>\n<table border=\"1\" class=\"dataframe\">\n  <thead>\n    <tr style=\"text-align: right;\">\n      <th></th>\n      <th>date</th>\n      <th>total_cases</th>\n      <th>new_cases</th>\n      <th>total_deaths</th>\n      <th>new_deaths</th>\n      <th>positive_rate</th>\n    </tr>\n  </thead>\n  <tbody>\n    <tr>\n      <th>89791</th>\n      <td>5/29/2021</td>\n      <td>6908.0</td>\n      <td>512.0</td>\n      <td>47.0</td>\n      <td>0.0</td>\n      <td>-1.0</td>\n    </tr>\n    <tr>\n      <th>89792</th>\n      <td>5/28/2021</td>\n      <td>6396.0</td>\n      <td>40.0</td>\n      <td>47.0</td>\n      <td>1.0</td>\n      <td>-1.0</td>\n    </tr>\n    <tr>\n      <th>89793</th>\n      <td>5/27/2021</td>\n      <td>6356.0</td>\n      <td>270.0</td>\n      <td>46.0</td>\n      <td>1.0</td>\n      <td>-1.0</td>\n    </tr>\n    <tr>\n      <th>89794</th>\n      <td>5/26/2021</td>\n      <td>6086.0</td>\n      <td>155.0</td>\n      <td>45.0</td>\n      <td>1.0</td>\n      <td>-1.0</td>\n    </tr>\n    <tr>\n      <th>89795</th>\n      <td>5/25/2021</td>\n      <td>5931.0</td>\n      <td>527.0</td>\n      <td>44.0</td>\n      <td>0.0</td>\n      <td>-1.0</td>\n    </tr>\n    <tr>\n      <th>...</th>\n      <td>...</td>\n      <td>...</td>\n      <td>...</td>\n      <td>...</td>\n      <td>...</td>\n      <td>...</td>\n    </tr>\n    <tr>\n      <th>90279</th>\n      <td>1/27/2020</td>\n      <td>2.0</td>\n      <td>0.0</td>\n      <td>-1.0</td>\n      <td>-1.0</td>\n      <td>-1.0</td>\n    </tr>\n    <tr>\n      <th>90280</th>\n      <td>1/26/2020</td>\n      <td>2.0</td>\n      <td>0.0</td>\n      <td>-1.0</td>\n      <td>-1.0</td>\n      <td>-1.0</td>\n    </tr>\n    <tr>\n      <th>90281</th>\n      <td>1/25/2020</td>\n      <td>2.0</td>\n      <td>0.0</td>\n      <td>-1.0</td>\n      <td>-1.0</td>\n      <td>-1.0</td>\n    </tr>\n    <tr>\n      <th>90282</th>\n      <td>1/24/2020</td>\n      <td>2.0</td>\n      <td>0.0</td>\n      <td>-1.0</td>\n      <td>-1.0</td>\n      <td>-1.0</td>\n    </tr>\n    <tr>\n      <th>90283</th>\n      <td>1/23/2020</td>\n      <td>2.0</td>\n      <td>2.0</td>\n      <td>-1.0</td>\n      <td>-1.0</td>\n      <td>-1.0</td>\n    </tr>\n  </tbody>\n</table>\n<p>493 rows × 6 columns</p>\n</div>"
     },
     "metadata": {},
     "execution_count": 8
    }
   ],
   "source": [
    "vietnam_covid_data = vietnam_covid_data.fillna(-1.0)\n",
    "vietnam_covid_data"
   ]
  },
  {
   "cell_type": "markdown",
   "id": "e3ac5dfd",
   "metadata": {},
   "source": [
    "### 2.2.3 Change date to String"
   ]
  },
  {
   "cell_type": "code",
   "execution_count": 9,
   "id": "0c1131bb",
   "metadata": {},
   "outputs": [],
   "source": [
    "# vietnam_covid_data['date'] = vietnam_covid_data['date'].astype(str)\n"
   ]
  },
  {
   "cell_type": "code",
   "execution_count": null,
   "metadata": {},
   "outputs": [],
   "source": []
  },
  {
   "source": [
    "### 2.2.5 Modifying Table + Calculate some values"
   ],
   "cell_type": "markdown",
   "metadata": {}
  },
  {
   "cell_type": "code",
   "execution_count": 37,
   "id": "3b38a0cd",
   "metadata": {},
   "outputs": [
    {
     "output_type": "execute_result",
     "data": {
      "text/plain": [
       "       total_cases  new_cases  total_deaths  new_deaths  positive_rate month  \\\n",
       "89791       6908.0      512.0          47.0         0.0           -1.0     5   \n",
       "89792       6396.0       40.0          47.0         1.0           -1.0     5   \n",
       "89793       6356.0      270.0          46.0         1.0           -1.0     5   \n",
       "89794       6086.0      155.0          45.0         1.0           -1.0     5   \n",
       "89795       5931.0      527.0          44.0         0.0           -1.0     5   \n",
       "...            ...        ...           ...         ...            ...   ...   \n",
       "90279          2.0        0.0          -1.0        -1.0           -1.0     1   \n",
       "90280          2.0        0.0          -1.0        -1.0           -1.0     1   \n",
       "90281          2.0        0.0          -1.0        -1.0           -1.0     1   \n",
       "90282          2.0        0.0          -1.0        -1.0           -1.0     1   \n",
       "90283          2.0        2.0          -1.0        -1.0           -1.0     1   \n",
       "\n",
       "       year  \n",
       "89791  2021  \n",
       "89792  2021  \n",
       "89793  2021  \n",
       "89794  2021  \n",
       "89795  2021  \n",
       "...     ...  \n",
       "90279  2020  \n",
       "90280  2020  \n",
       "90281  2020  \n",
       "90282  2020  \n",
       "90283  2020  \n",
       "\n",
       "[493 rows x 7 columns]"
      ],
      "text/html": "<div>\n<style scoped>\n    .dataframe tbody tr th:only-of-type {\n        vertical-align: middle;\n    }\n\n    .dataframe tbody tr th {\n        vertical-align: top;\n    }\n\n    .dataframe thead th {\n        text-align: right;\n    }\n</style>\n<table border=\"1\" class=\"dataframe\">\n  <thead>\n    <tr style=\"text-align: right;\">\n      <th></th>\n      <th>total_cases</th>\n      <th>new_cases</th>\n      <th>total_deaths</th>\n      <th>new_deaths</th>\n      <th>positive_rate</th>\n      <th>month</th>\n      <th>year</th>\n    </tr>\n  </thead>\n  <tbody>\n    <tr>\n      <th>89791</th>\n      <td>6908.0</td>\n      <td>512.0</td>\n      <td>47.0</td>\n      <td>0.0</td>\n      <td>-1.0</td>\n      <td>5</td>\n      <td>2021</td>\n    </tr>\n    <tr>\n      <th>89792</th>\n      <td>6396.0</td>\n      <td>40.0</td>\n      <td>47.0</td>\n      <td>1.0</td>\n      <td>-1.0</td>\n      <td>5</td>\n      <td>2021</td>\n    </tr>\n    <tr>\n      <th>89793</th>\n      <td>6356.0</td>\n      <td>270.0</td>\n      <td>46.0</td>\n      <td>1.0</td>\n      <td>-1.0</td>\n      <td>5</td>\n      <td>2021</td>\n    </tr>\n    <tr>\n      <th>89794</th>\n      <td>6086.0</td>\n      <td>155.0</td>\n      <td>45.0</td>\n      <td>1.0</td>\n      <td>-1.0</td>\n      <td>5</td>\n      <td>2021</td>\n    </tr>\n    <tr>\n      <th>89795</th>\n      <td>5931.0</td>\n      <td>527.0</td>\n      <td>44.0</td>\n      <td>0.0</td>\n      <td>-1.0</td>\n      <td>5</td>\n      <td>2021</td>\n    </tr>\n    <tr>\n      <th>...</th>\n      <td>...</td>\n      <td>...</td>\n      <td>...</td>\n      <td>...</td>\n      <td>...</td>\n      <td>...</td>\n      <td>...</td>\n    </tr>\n    <tr>\n      <th>90279</th>\n      <td>2.0</td>\n      <td>0.0</td>\n      <td>-1.0</td>\n      <td>-1.0</td>\n      <td>-1.0</td>\n      <td>1</td>\n      <td>2020</td>\n    </tr>\n    <tr>\n      <th>90280</th>\n      <td>2.0</td>\n      <td>0.0</td>\n      <td>-1.0</td>\n      <td>-1.0</td>\n      <td>-1.0</td>\n      <td>1</td>\n      <td>2020</td>\n    </tr>\n    <tr>\n      <th>90281</th>\n      <td>2.0</td>\n      <td>0.0</td>\n      <td>-1.0</td>\n      <td>-1.0</td>\n      <td>-1.0</td>\n      <td>1</td>\n      <td>2020</td>\n    </tr>\n    <tr>\n      <th>90282</th>\n      <td>2.0</td>\n      <td>0.0</td>\n      <td>-1.0</td>\n      <td>-1.0</td>\n      <td>-1.0</td>\n      <td>1</td>\n      <td>2020</td>\n    </tr>\n    <tr>\n      <th>90283</th>\n      <td>2.0</td>\n      <td>2.0</td>\n      <td>-1.0</td>\n      <td>-1.0</td>\n      <td>-1.0</td>\n      <td>1</td>\n      <td>2020</td>\n    </tr>\n  </tbody>\n</table>\n<p>493 rows × 7 columns</p>\n</div>"
     },
     "metadata": {},
     "execution_count": 37
    }
   ],
   "source": [
    "\n",
    "# split date columns into month, day, year\n",
    "vietnam_covid_data[['month','day','year']] = vietnam_covid_data['date'].str.split('/', expand = True)\n",
    "\n",
    "#drop date + day column, we just need month and year for later process\n",
    "vietnam_covid_data = vietnam_covid_data.drop(['date','day'],axis = 1)\n",
    "vietnam_covid_data"
   ]
  },
  {
   "cell_type": "code",
   "execution_count": 72,
   "metadata": {},
   "outputs": [],
   "source": [
    "\n",
    "# table data for first graph:\n",
    "first_visualize_data = vietnam_covid_data.drop(['total_cases','total_deaths','new_deaths','positive_rate'],axis=1)\n",
    "first_visualize_data = first_visualize_data.groupby(by=['year','month']).sum()\n"
   ]
  },
  {
   "cell_type": "markdown",
   "id": "65f4637b",
   "metadata": {},
   "source": [
    "### 2.2.4 Separate data to some arrays"
   ]
  },
  {
   "cell_type": "markdown",
   "id": "82dfde1d",
   "metadata": {},
   "source": [
    "## 2.3 Displaying Final Data"
   ]
  },
  {
   "cell_type": "code",
   "execution_count": 71,
   "id": "4b5125cf",
   "metadata": {},
   "outputs": [
    {
     "output_type": "execute_result",
     "data": {
      "text/plain": [
       "            new_cases\n",
       "year month           \n",
       "2020 1            2.0\n",
       "     10          86.0\n",
       "     11         167.0\n",
       "     12         118.0\n",
       "     2           14.0\n",
       "     3          196.0\n",
       "     4           58.0\n",
       "     5           58.0\n",
       "     6           27.0\n",
       "     7          203.0\n",
       "     8          486.0\n",
       "     9           50.0\n",
       "2021 1          352.0\n",
       "     2          631.0\n",
       "     3          155.0\n",
       "     4          325.0\n",
       "     5         3980.0"
      ],
      "text/html": "<div>\n<style scoped>\n    .dataframe tbody tr th:only-of-type {\n        vertical-align: middle;\n    }\n\n    .dataframe tbody tr th {\n        vertical-align: top;\n    }\n\n    .dataframe thead th {\n        text-align: right;\n    }\n</style>\n<table border=\"1\" class=\"dataframe\">\n  <thead>\n    <tr style=\"text-align: right;\">\n      <th></th>\n      <th></th>\n      <th>new_cases</th>\n    </tr>\n    <tr>\n      <th>year</th>\n      <th>month</th>\n      <th></th>\n    </tr>\n  </thead>\n  <tbody>\n    <tr>\n      <th rowspan=\"12\" valign=\"top\">2020</th>\n      <th>1</th>\n      <td>2.0</td>\n    </tr>\n    <tr>\n      <th>10</th>\n      <td>86.0</td>\n    </tr>\n    <tr>\n      <th>11</th>\n      <td>167.0</td>\n    </tr>\n    <tr>\n      <th>12</th>\n      <td>118.0</td>\n    </tr>\n    <tr>\n      <th>2</th>\n      <td>14.0</td>\n    </tr>\n    <tr>\n      <th>3</th>\n      <td>196.0</td>\n    </tr>\n    <tr>\n      <th>4</th>\n      <td>58.0</td>\n    </tr>\n    <tr>\n      <th>5</th>\n      <td>58.0</td>\n    </tr>\n    <tr>\n      <th>6</th>\n      <td>27.0</td>\n    </tr>\n    <tr>\n      <th>7</th>\n      <td>203.0</td>\n    </tr>\n    <tr>\n      <th>8</th>\n      <td>486.0</td>\n    </tr>\n    <tr>\n      <th>9</th>\n      <td>50.0</td>\n    </tr>\n    <tr>\n      <th rowspan=\"5\" valign=\"top\">2021</th>\n      <th>1</th>\n      <td>352.0</td>\n    </tr>\n    <tr>\n      <th>2</th>\n      <td>631.0</td>\n    </tr>\n    <tr>\n      <th>3</th>\n      <td>155.0</td>\n    </tr>\n    <tr>\n      <th>4</th>\n      <td>325.0</td>\n    </tr>\n    <tr>\n      <th>5</th>\n      <td>3980.0</td>\n    </tr>\n  </tbody>\n</table>\n</div>"
     },
     "metadata": {},
     "execution_count": 71
    }
   ],
   "source": [
    "# BELOW ARE ALL NAMES OF FINAL DATA:\n",
    "first_visualize_data\n"
   ]
  },
  {
   "cell_type": "markdown",
   "id": "dbbfce18",
   "metadata": {},
   "source": [
    "## 3. Data Visualisation"
   ]
  },
  {
   "cell_type": "markdown",
   "id": "442bff86",
   "metadata": {},
   "source": [
    "### 3.1 Show the cases by dates:"
   ]
  },
  {
   "cell_type": "code",
   "execution_count": null,
   "metadata": {},
   "outputs": [],
   "source": []
  }
 ],
 "metadata": {
  "kernelspec": {
   "name": "python388jvsc74a57bd0a1057bf146dddab3966f43b158fc47b89eb232af6b6d78c2a148b4933d6f7e2f",
   "display_name": "Python 3.8.8 64-bit ('base': conda)"
  },
  "language_info": {
   "codemirror_mode": {
    "name": "ipython",
    "version": 3
   },
   "file_extension": ".py",
   "mimetype": "text/x-python",
   "name": "python",
   "nbconvert_exporter": "python",
   "pygments_lexer": "ipython3",
   "version": "3.8.8"
  }
 },
 "nbformat": 4,
 "nbformat_minor": 5
}